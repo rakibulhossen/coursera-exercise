{
    "cells": [
        {
            "cell_type": "markdown",
            "metadata": {
                "collapsed": true
            },
            "source": "# My Jupyter Notebook on IBM Watson Studio"
        },
        {
            "cell_type": "markdown",
            "metadata": {},
            "source": "**Rakibul Hossen** \n\nI am a Researcher and Digital Market, I want to become a Data Analyst and Data Driven Digital Marketer"
        },
        {
            "cell_type": "markdown",
            "metadata": {},
            "source": "*I am interested in data science because data is the future. The person who has more profound knowledge in data analysis or data science will have the advantage in career growth.*"
        },
        {
            "cell_type": "markdown",
            "metadata": {},
            "source": "### minutes = 200 and hours = 60, lets compute the total Hours\n"
        },
        {
            "cell_type": "code",
            "execution_count": 2,
            "metadata": {},
            "outputs": [
                {
                    "name": "stdout",
                    "output_type": "stream",
                    "text": "3.3333333333333335\n"
                }
            ],
            "source": "minutes = 200\nhours = 60\ntotalhours = minutes/hours\nprint(totalhours)"
        },
        {
            "cell_type": "markdown",
            "metadata": {},
            "source": "Open Source Tools of Data Science:\n1. JupyterNotebook\n2. PyCharm\n3. VsCode\n\nCommon Libraries in Python:\n* Numpy\n* Pandas\n* Metplotlib\n\nPopular Data Science Tools:\n| Sl | Tools       |\n|---|-------------|\n| 1 | Python       |\n| 2 | R            |\n| 3 | Apache Spark | \n\n\n[Knowledge College BD](knowledgecollegebd.com)"
        },
        {
            "cell_type": "code",
            "execution_count": null,
            "metadata": {},
            "outputs": [],
            "source": ""
        },
        {
            "cell_type": "code",
            "execution_count": null,
            "metadata": {},
            "outputs": [],
            "source": ""
        }
    ],
    "metadata": {
        "kernelspec": {
            "display_name": "Python 3.10",
            "language": "python",
            "name": "python3"
        },
        "language_info": {
            "codemirror_mode": {
                "name": "ipython",
                "version": 3
            },
            "file_extension": ".py",
            "mimetype": "text/x-python",
            "name": "python",
            "nbconvert_exporter": "python",
            "pygments_lexer": "ipython3",
            "version": "3.10.9"
        }
    },
    "nbformat": 4,
    "nbformat_minor": 1
}